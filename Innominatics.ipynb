{
 "cells": [
  {
   "cell_type": "markdown",
   "metadata": {},
   "source": [
    "# Teesha Sonawane #"
   ]
  },
  {
   "cell_type": "code",
   "execution_count": 3,
   "metadata": {},
   "outputs": [],
   "source": [
    "import numpy as np\n",
    "import matplotlib.pyplot as plt\n",
    "import pandas as pd\n",
    "from sklearn.linear_model import LinearRegression"
   ]
  },
  {
   "cell_type": "markdown",
   "metadata": {},
   "source": [
    "**For linear Regression**"
   ]
  },
  {
   "cell_type": "code",
   "execution_count": 5,
   "metadata": {},
   "outputs": [],
   "source": [
    "data = pd.read_csv('data_2_var.csv')\n",
    "A = data.iloc[:, 0].values.reshape(-1, 1) # values converts it into a numpy array\n",
    "B = data.iloc[:, 1].values.reshape(-1, 1) # -1 means that calculate the dimension of rows, but have 1 column\n",
    "linear_regressor = LinearRegression()\n",
    "linear_regressor.fit(A, B)\n",
    "B_pred = linear_regressor.predict(A)"
   ]
  },
  {
   "cell_type": "code",
   "execution_count": 6,
   "metadata": {},
   "outputs": [
    {
     "data": {
      "image/png": "[encoded data removed]",
      "text/plain": [
       "<Figure size 432x288 with 1 Axes>"
      ]
     },
     "metadata": {
      "needs_background": "light"
     },
     "output_type": "display_data"
    }
   ],
   "source": [
    "plt.scatter(A, B)\n",
    "plt.plot(A, B_pred, color='red')\n",
    "plt.show()"
   ]
  },
  {
   "cell_type": "markdown",
   "metadata": {},
   "source": [
    "**Preparing the data**"
   ]
  },
  {
   "cell_type": "code",
   "execution_count": 7,
   "metadata": {},
   "outputs": [],
   "source": [
    "from sklearn.model_selection import train_test_split"
   ]
  },
  {
   "cell_type": "code",
   "execution_count": 8,
   "metadata": {},
   "outputs": [],
   "source": [
    "A = data.iloc[:, :-1].values  \n",
    "B = data.iloc[:, 1].values"
   ]
  },
  {
   "cell_type": "code",
   "execution_count": 9,
   "metadata": {},
   "outputs": [],
   "source": [
    "A_train, A_test, B_train, B_test = train_test_split(A, B, \n",
    "                            test_size=0.2, random_state=0)"
   ]
  },
  {
   "cell_type": "markdown",
   "metadata": {},
   "source": [
    "**Training the Algorithm**"
   ]
  },
  {
   "cell_type": "code",
   "execution_count": 10,
   "metadata": {},
   "outputs": [
    {
     "name": "stdout",
     "output_type": "stream",
     "text": [
      "Training complete.\n"
     ]
    }
   ],
   "source": [
    "from sklearn.linear_model import LinearRegression  \n",
    "regressor = LinearRegression()  \n",
    "regressor.fit(A_train, B_train) \n",
    "\n",
    "print(\"Training complete.\")"
   ]
  },
  {
   "cell_type": "markdown",
   "metadata": {},
   "source": [
    "**Making Predictions**"
   ]
  },
  {
   "cell_type": "code",
   "execution_count": 15,
   "metadata": {},
   "outputs": [
    {
     "name": "stdout",
     "output_type": "stream",
     "text": [
      "[[  38.76096865]\n",
      " [  36.34061907]\n",
      " [-124.3666687 ]\n",
      " [ 110.6333313 ]\n",
      " [ -60.79869898]\n",
      " [-112.3666687 ]\n",
      " [-120.3666687 ]\n",
      " [   7.22555296]\n",
      " [  96.6333313 ]\n",
      " [  96.90173948]\n",
      " [  60.14399401]\n",
      " [-133.1302957 ]\n",
      " [  12.6333313 ]\n",
      " [   6.2329617 ]\n",
      " [ -24.50385739]\n",
      " [ -23.5597799 ]\n",
      " [ -87.0241036 ]\n",
      " [  31.5300926 ]\n",
      " [  37.69257656]\n",
      " [ -14.43459137]\n",
      " [   2.6333313 ]\n",
      " [ 117.5945747 ]\n",
      " [  38.33481048]\n",
      " [  24.60094267]\n",
      " [ 108.6333313 ]\n",
      " [  82.84174354]\n",
      " [  70.61621992]\n",
      " [-125.3666687 ]\n",
      " [-133.8181748 ]\n",
      " [  30.92564812]\n",
      " [-112.0184963 ]\n",
      " [ 113.9585976 ]\n",
      " [-115.3666687 ]\n",
      " [  -8.46092297]\n",
      " [-112.2579067 ]\n",
      " [  79.91468981]\n",
      " [  84.23792784]\n",
      " [  46.31618757]\n",
      " [ -19.3666687 ]\n",
      " [ 106.9245151 ]\n",
      " [ -28.3666687 ]\n",
      " [ 115.2538998 ]\n",
      " [-111.5153684 ]\n",
      " [ -18.18428688]\n",
      " [ -49.49748501]\n",
      " [  94.28697677]\n",
      " [  22.52866332]\n",
      " [ -15.74061735]\n",
      " [ -19.00663561]\n",
      " [-129.3666687 ]\n",
      " [ -39.21226144]\n",
      " [ -35.3666687 ]\n",
      " [ 124.4528335 ]\n",
      " [  64.99073331]\n",
      " [   2.13120679]\n",
      " [  24.71599395]\n",
      " [  73.6333313 ]\n",
      " [ -17.57248795]\n",
      " [  92.87962696]\n",
      " [ 108.4136656 ]\n",
      " [  63.24983624]\n",
      " [  76.65852087]\n",
      " [  86.2740089 ]\n",
      " [  77.6333313 ]\n",
      " [-125.0856202 ]\n",
      " [ -71.3666687 ]\n",
      " [ -26.3666687 ]\n",
      " [ -38.35400437]\n",
      " [-130.3666687 ]\n",
      " [ -91.04201528]\n",
      " [  86.6333313 ]\n",
      " [ 103.6168168 ]\n",
      " [  96.08331355]\n",
      " [  -7.34400993]\n",
      " [ 128.0365709 ]\n",
      " [-119.3666687 ]\n",
      " [ -27.8216707 ]\n",
      " [  80.6333313 ]\n",
      " [  27.60332634]\n",
      " [   6.10534997]\n",
      " [ 134.4631809 ]\n",
      " [  -4.2808011 ]\n",
      " [  99.6333313 ]\n",
      " [ 112.6764372 ]\n",
      " [ 125.2329353 ]\n",
      " [  29.09145773]\n",
      " [-123.0476267 ]\n",
      " [  10.38221385]\n",
      " [ 119.2002417 ]\n",
      " [  93.6333313 ]\n",
      " [  63.6225441 ]\n",
      " [ 100.6333313 ]\n",
      " [-113.2282255 ]\n",
      " [ -22.74925523]\n",
      " [ -81.3666687 ]\n",
      " [  14.6333313 ]\n",
      " [  98.99663552]\n",
      " [ -31.4543411 ]\n",
      " [-111.2536771 ]\n",
      " [-134.917019  ]\n",
      " [ -27.69218859]\n",
      " [  -6.99521243]\n",
      " [-121.2046658 ]\n",
      " [ 112.6333313 ]\n",
      " [ -32.82816695]\n",
      " [ 105.7058912 ]\n",
      " [ 104.6333313 ]\n",
      " [ -17.3666687 ]\n",
      " [  74.41298046]\n",
      " [-134.9628386 ]\n",
      " [  40.95082985]\n",
      " [ -29.79892566]\n",
      " [ -52.82573057]\n",
      " [   5.6333313 ]\n",
      " [ -27.49020375]\n",
      " [  64.64426165]\n",
      " [ -28.14901322]\n",
      " [  80.6333313 ]\n",
      " [   8.06865737]\n",
      " [ 116.614886  ]\n",
      " [  73.6333313 ]\n",
      " [ 124.6333313 ]\n",
      " [  55.1718735 ]\n",
      " [-103.2930966 ]\n",
      " [  39.65771677]\n",
      " [ 120.6333313 ]\n",
      " [  15.73778184]\n",
      " [ 123.2706712 ]\n",
      " [ -96.69369402]\n",
      " [  98.20922281]\n",
      " [ 122.0154499 ]\n",
      " [-123.3666687 ]\n",
      " [ 128.0107858 ]\n",
      " [ -37.99251599]\n",
      " [ -63.38650606]\n",
      " [  82.6333313 ]\n",
      " [-121.6535425 ]\n",
      " [  15.04195785]\n",
      " [-122.6576764 ]\n",
      " [  36.6257103 ]\n",
      " [  11.6333313 ]\n",
      " [  81.58129222]\n",
      " [ -29.80773841]\n",
      " [  36.71914025]\n",
      " [ -92.33092549]\n",
      " [ -21.89561574]\n",
      " [ -13.74639792]\n",
      " [  -7.54360389]\n",
      " [ 114.2310589 ]\n",
      " [-115.3666687 ]\n",
      " [  83.09733587]\n",
      " [  77.44915486]\n",
      " [  21.6333313 ]\n",
      " [  34.01840062]\n",
      " [   0.64118964]\n",
      " [  18.74663085]\n",
      " [ -69.3666687 ]\n",
      " [ -11.76276481]\n",
      " [ 120.6333313 ]\n",
      " [-130.2622522 ]\n",
      " [ -33.48191305]\n",
      " [  50.60810202]\n",
      " [ -34.82187374]\n",
      " [-132.3592378 ]\n",
      " [ -82.99185534]\n",
      " [  87.36784248]\n",
      " [ 122.8318272 ]\n",
      " [ -85.3666687 ]\n",
      " [ -43.3666687 ]\n",
      " [  42.6333313 ]\n",
      " [ -89.3666687 ]\n",
      " [  72.04171715]\n",
      " [ 101.2707346 ]\n",
      " [ 112.5669758 ]\n",
      " [-125.3666687 ]\n",
      " [-112.6760028 ]\n",
      " [  40.6333313 ]\n",
      " [  10.60693492]\n",
      " [  18.6333313 ]\n",
      " [  20.6333313 ]\n",
      " [ 109.5425747 ]\n",
      " [-130.4357473 ]\n",
      " [-110.6765727 ]\n",
      " [  78.32298659]\n",
      " [ -14.88210966]\n",
      " [  76.25316671]\n",
      " [ 130.215865  ]\n",
      " [  36.6333313 ]\n",
      " [  17.6333313 ]\n",
      " [  -0.94683525]\n",
      " [  62.25279907]\n",
      " [  79.80685918]\n",
      " [-115.5637388 ]\n",
      " [  90.47234273]\n",
      " [-119.5241123 ]\n",
      " [-120.6059511 ]\n",
      " [ -38.25744811]\n",
      " [  18.27471569]\n",
      " [ -84.28352954]\n",
      " [  94.6333313 ]\n",
      " [  23.6333313 ]\n",
      " [  65.6333313 ]\n",
      " [   4.08095959]\n",
      " [ 132.9749039 ]\n",
      " [  32.71991682]\n",
      " [  85.55976328]\n",
      " [  90.57672233]\n",
      " [  -6.53276464]\n",
      " [  29.66920056]\n",
      " [ -62.3666687 ]\n",
      " [  35.31062821]\n",
      " [  51.32374166]\n",
      " [-101.1645293 ]\n",
      " [  -4.94489612]\n",
      " [  41.09625964]\n",
      " [  10.69926433]\n",
      " [-120.4704177 ]\n",
      " [ 124.0215706 ]\n",
      " [  60.45821799]\n",
      " [ 111.6333313 ]\n",
      " [  10.86377566]\n",
      " [  46.05831377]]\n"
     ]
    }
   ],
   "source": [
    "print(A_test) # Testing data - In Hours\n",
    "B_pred = regressor.predict(A_test) # Predicting the scores"
   ]
  },
  {
   "cell_type": "code",
   "execution_count": 16,
   "metadata": {},
   "outputs": [
    {
     "data": {
      "text/html": [
       "<div>\n",
       "<style scoped>\n",
       "    .dataframe tbody tr th:only-of-type {\n",
       "        vertical-align: middle;\n",
       "    }\n",
       "\n",
       "    .dataframe tbody tr th {\n",
       "        vertical-align: top;\n",
       "    }\n",
       "\n",
       "    .dataframe thead th {\n",
       "        text-align: right;\n",
       "    }\n",
       "</style>\n",
       "<table border=\"1\" class=\"dataframe\">\n",
       "  <thead>\n",
       "    <tr style=\"text-align: right;\">\n",
       "      <th></th>\n",
       "      <th>Actual</th>\n",
       "      <th>Predicted</th>\n",
       "    </tr>\n",
       "  </thead>\n",
       "  <tbody>\n",
       "    <tr>\n",
       "      <th>0</th>\n",
       "      <td>-92.070165</td>\n",
       "      <td>-13.890729</td>\n",
       "    </tr>\n",
       "    <tr>\n",
       "      <th>1</th>\n",
       "      <td>-73.600740</td>\n",
       "      <td>-14.824869</td>\n",
       "    </tr>\n",
       "    <tr>\n",
       "      <th>2</th>\n",
       "      <td>121.000000</td>\n",
       "      <td>-76.850244</td>\n",
       "    </tr>\n",
       "    <tr>\n",
       "      <th>3</th>\n",
       "      <td>92.000000</td>\n",
       "      <td>13.848588</td>\n",
       "    </tr>\n",
       "    <tr>\n",
       "      <th>4</th>\n",
       "      <td>-16.318933</td>\n",
       "      <td>-52.316029</td>\n",
       "    </tr>\n",
       "    <tr>\n",
       "      <th>...</th>\n",
       "      <td>...</td>\n",
       "      <td>...</td>\n",
       "    </tr>\n",
       "    <tr>\n",
       "      <th>217</th>\n",
       "      <td>99.764819</td>\n",
       "      <td>19.015812</td>\n",
       "    </tr>\n",
       "    <tr>\n",
       "      <th>218</th>\n",
       "      <td>-89.164895</td>\n",
       "      <td>-5.516622</td>\n",
       "    </tr>\n",
       "    <tr>\n",
       "      <th>219</th>\n",
       "      <td>89.000000</td>\n",
       "      <td>14.234540</td>\n",
       "    </tr>\n",
       "    <tr>\n",
       "      <th>220</th>\n",
       "      <td>-107.850314</td>\n",
       "      <td>-24.657719</td>\n",
       "    </tr>\n",
       "    <tr>\n",
       "      <th>221</th>\n",
       "      <td>-67.824317</td>\n",
       "      <td>-11.074300</td>\n",
       "    </tr>\n",
       "  </tbody>\n",
       "</table>\n",
       "<p>222 rows × 2 columns</p>\n",
       "</div>"
      ],
      "text/plain": [
       "         Actual  Predicted\n",
       "0    -92.070165 -13.890729\n",
       "1    -73.600740 -14.824869\n",
       "2    121.000000 -76.850244\n",
       "3     92.000000  13.848588\n",
       "4    -16.318933 -52.316029\n",
       "..          ...        ...\n",
       "217   99.764819  19.015812\n",
       "218  -89.164895  -5.516622\n",
       "219   89.000000  14.234540\n",
       "220 -107.850314 -24.657719\n",
       "221  -67.824317 -11.074300\n",
       "\n",
       "[222 rows x 2 columns]"
      ]
     },
     "execution_count": 16,
     "metadata": {},
     "output_type": "execute_result"
    }
   ],
   "source": [
    "# Comparing Actual vs Predicted\n",
    "df = pd.DataFrame({'Actual': B_test, 'Predicted': B_pred})  \n",
    "df "
   ]
  },
  {
   "cell_type": "markdown",
   "metadata": {},
   "source": [
    "**Evaluating the models**"
   ]
  },
  {
   "cell_type": "code",
   "execution_count": 17,
   "metadata": {},
   "outputs": [
    {
     "name": "stdout",
     "output_type": "stream",
     "text": [
      "Mean Absolute Error: 49.03184278192943\n"
     ]
    }
   ],
   "source": [
    "#Evaluation\n",
    "from sklearn import metrics  \n",
    "print('Mean Absolute Error:', \n",
    "      metrics.mean_absolute_error(B_test, B_pred)) "
   ]
  }
 ],
 "metadata": {
  "kernelspec": {
   "display_name": "Python 3",
   "language": "python",
   "name": "python3"
  },
  "language_info": {
   "codemirror_mode": {
    "name": "ipython",
    "version": 3
   },
   "file_extension": ".py",
   "mimetype": "text/x-python",
   "name": "python",
   "nbconvert_exporter": "python",
   "pygments_lexer": "ipython3",
   "version": "3.8.5"
  }
 },
 "nbformat": 4,
 "nbformat_minor": 4
}
